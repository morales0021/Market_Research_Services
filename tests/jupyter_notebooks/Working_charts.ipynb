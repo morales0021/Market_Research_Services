{
 "cells": [
  {
   "cell_type": "code",
   "execution_count": 73,
   "id": "0e8a3ba1",
   "metadata": {},
   "outputs": [],
   "source": [
    "import json\n",
    "from mrservices.completions.completions import (\n",
    "    get_online_natural_completion,\n",
    "    get_offline_json_completion\n",
    "    )\n"
   ]
  },
  {
   "cell_type": "code",
   "execution_count": 74,
   "id": "611d0b6d",
   "metadata": {},
   "outputs": [],
   "source": [
    "with open(\"plots.json\") as f:\n",
    "    data = json.loads(f.read())"
   ]
  },
  {
   "cell_type": "code",
   "execution_count": 75,
   "id": "3c72e8ba",
   "metadata": {},
   "outputs": [
    {
     "data": {
      "text/plain": [
       "dict_keys(['id', 'choices', 'created', 'model', 'object', 'service_tier', 'system_fingerprint', 'usage'])"
      ]
     },
     "execution_count": 75,
     "metadata": {},
     "output_type": "execute_result"
    }
   ],
   "source": [
    "data.keys()"
   ]
  },
  {
   "cell_type": "code",
   "execution_count": 76,
   "id": "6e261565",
   "metadata": {},
   "outputs": [
    {
     "data": {
      "text/plain": [
       "[{'type_chart': 'line_chart',\n",
       "  'plot_title': 'Projected Market Growth of Market Research Services Industry in the U.S. (2020-2025)',\n",
       "  'description': 'This chart shows the projected revenue growth of the market research services industry in the U.S. from 2020 to 2025, based on the given CAGR of 3.9%. It illustrates the expected growth over the years, ending with a projected revenue of $36.6 billion by 2025.',\n",
       "  'x_axis_title': 'Year',\n",
       "  'x_values': [2020, 2021, 2022, 2023, 2024, 2025],\n",
       "  'line_series': [{'label': 'Revenue (in Billion USD)',\n",
       "    'y_values': [32.5, 33.7, 34.9, 36.1, 37.3, 36.6]}]},\n",
       " {'type_chart': 'bar_chart',\n",
       "  'plot_title': 'Key Growth Drivers of the Market Research Services Industry',\n",
       "  'description': 'This bar chart compares the key growth drivers of the market research services industry, showcasing the potential contributions of data-driven decision-making, technological advancements, and the shift towards digital platforms.',\n",
       "  'x_axis_data': ['Data-Driven Decision-Making',\n",
       "   'Technological Advancements',\n",
       "   'Shift to Digital Platforms'],\n",
       "  'x_axis_title': 'Growth Driver',\n",
       "  'y_axis_data': [45, 30, 25],\n",
       "  'y_axis_title': 'Estimated Impact on Revenue Growth (%)'},\n",
       " {'type_chart': 'pie_chart',\n",
       "  'plot_title': 'Challenges Impacting Growth of Market Research Services Industry',\n",
       "  'description': 'This pie chart illustrates the proportionate impact of various challenges facing the market research industry, including DIY tools, the pace of technological change, reliance on quantitative data, and economic uncertainties.',\n",
       "  'values': [40, 25, 20, 15],\n",
       "  'labels': ['Rise of DIY Tools',\n",
       "   'Pace of Technological Change',\n",
       "   'Reliance on Quantitative Data',\n",
       "   'Economic Uncertainties']}]"
      ]
     },
     "execution_count": 76,
     "metadata": {},
     "output_type": "execute_result"
    }
   ],
   "source": [
    "data['choices'][0]['message']['parsed']['charts']"
   ]
  },
  {
   "cell_type": "code",
   "execution_count": 77,
   "id": "e6f9f2c8",
   "metadata": {},
   "outputs": [],
   "source": [
    "line_chart = data['choices'][0]['message']['parsed']['charts'][0]\n",
    "bar_chart = data['choices'][0]['message']['parsed']['charts'][1]\n",
    "pie_chart = data['choices'][0]['message']['parsed']['charts'][2]"
   ]
  },
  {
   "cell_type": "markdown",
   "id": "cea72665",
   "metadata": {},
   "source": [
    "### Bar Chart"
   ]
  },
  {
   "cell_type": "code",
   "execution_count": 78,
   "id": "4e41ff65",
   "metadata": {},
   "outputs": [
    {
     "data": {
      "text/plain": [
       "{'type_chart': 'bar_chart',\n",
       " 'plot_title': 'Key Growth Drivers of the Market Research Services Industry',\n",
       " 'description': 'This bar chart compares the key growth drivers of the market research services industry, showcasing the potential contributions of data-driven decision-making, technological advancements, and the shift towards digital platforms.',\n",
       " 'x_axis_data': ['Data-Driven Decision-Making',\n",
       "  'Technological Advancements',\n",
       "  'Shift to Digital Platforms'],\n",
       " 'x_axis_title': 'Growth Driver',\n",
       " 'y_axis_data': [45, 30, 25],\n",
       " 'y_axis_title': 'Estimated Impact on Revenue Growth (%)'}"
      ]
     },
     "execution_count": 78,
     "metadata": {},
     "output_type": "execute_result"
    }
   ],
   "source": [
    "bar_chart"
   ]
  },
  {
   "cell_type": "code",
   "execution_count": 79,
   "id": "25424ff7",
   "metadata": {},
   "outputs": [],
   "source": [
    "def nivo_bar_chart(bar_chart):\n",
    "    chart = {\n",
    "        \"title\": bar_chart['plot_title'],\n",
    "        \"description\": bar_chart['description'],\n",
    "        \"keys\": [bar_chart['y_axis_title']],\n",
    "        \"indexBy\": bar_chart['x_axis_title']\n",
    "    }\n",
    "    \n",
    "    assert(len(bar_chart['x_axis_data']) == len(bar_chart['y_axis_data']))\n",
    "    data = []\n",
    "    for k in range(0,len(bar_chart['x_axis_data'])):\n",
    "        info = {\n",
    "            bar_chart[\"x_axis_title\"]: bar_chart[\"x_axis_data\"][k],\n",
    "            bar_chart[\"y_axis_title\"]: bar_chart[\"y_axis_data\"][k]\n",
    "        }\n",
    "        data.append(info)\n",
    "        \n",
    "    chart['data'] = data\n",
    "    \n",
    "    return chart"
   ]
  },
  {
   "cell_type": "code",
   "execution_count": 80,
   "id": "9edf44c0",
   "metadata": {},
   "outputs": [],
   "source": [
    "bc_nivo = nivo_bar_chart(bar_chart)"
   ]
  },
  {
   "cell_type": "code",
   "execution_count": 81,
   "id": "13b76902",
   "metadata": {},
   "outputs": [
    {
     "name": "stdout",
     "output_type": "stream",
     "text": [
      "{'title': 'Key Growth Drivers of the Market Research Services Industry', 'description': 'This bar chart compares the key growth drivers of the market research services industry, showcasing the potential contributions of data-driven decision-making, technological advancements, and the shift towards digital platforms.', 'keys': ['Estimated Impact on Revenue Growth (%)'], 'indexBy': 'Growth Driver', 'data': [{'Growth Driver': 'Data-Driven Decision-Making', 'Estimated Impact on Revenue Growth (%)': 45}, {'Growth Driver': 'Technological Advancements', 'Estimated Impact on Revenue Growth (%)': 30}, {'Growth Driver': 'Shift to Digital Platforms', 'Estimated Impact on Revenue Growth (%)': 25}]}\n"
     ]
    }
   ],
   "source": [
    "print(bc_nivo)"
   ]
  },
  {
   "cell_type": "code",
   "execution_count": 82,
   "id": "cd033219",
   "metadata": {},
   "outputs": [
    {
     "data": {
      "text/plain": [
       "[{'Growth Driver': 'Data-Driven Decision-Making',\n",
       "  'Estimated Impact on Revenue Growth (%)': 45},\n",
       " {'Growth Driver': 'Technological Advancements',\n",
       "  'Estimated Impact on Revenue Growth (%)': 30},\n",
       " {'Growth Driver': 'Shift to Digital Platforms',\n",
       "  'Estimated Impact on Revenue Growth (%)': 25}]"
      ]
     },
     "execution_count": 82,
     "metadata": {},
     "output_type": "execute_result"
    }
   ],
   "source": [
    "bc_nivo['data']"
   ]
  },
  {
   "cell_type": "code",
   "execution_count": 83,
   "id": "f4b752dc",
   "metadata": {},
   "outputs": [
    {
     "data": {
      "text/plain": [
       "['Estimated Impact on Revenue Growth (%)']"
      ]
     },
     "execution_count": 83,
     "metadata": {},
     "output_type": "execute_result"
    }
   ],
   "source": [
    "bc_nivo['keys']"
   ]
  },
  {
   "cell_type": "code",
   "execution_count": 84,
   "id": "4fa0baf9",
   "metadata": {},
   "outputs": [
    {
     "data": {
      "text/plain": [
       "'Growth Driver'"
      ]
     },
     "execution_count": 84,
     "metadata": {},
     "output_type": "execute_result"
    }
   ],
   "source": [
    "bc_nivo['indexBy']"
   ]
  },
  {
   "cell_type": "markdown",
   "id": "bdea4287",
   "metadata": {},
   "source": [
    "## Pie Chart"
   ]
  },
  {
   "cell_type": "code",
   "execution_count": 85,
   "id": "129c5fb8",
   "metadata": {},
   "outputs": [
    {
     "data": {
      "text/plain": [
       "{'type_chart': 'pie_chart',\n",
       " 'plot_title': 'Challenges Impacting Growth of Market Research Services Industry',\n",
       " 'description': 'This pie chart illustrates the proportionate impact of various challenges facing the market research industry, including DIY tools, the pace of technological change, reliance on quantitative data, and economic uncertainties.',\n",
       " 'values': [40, 25, 20, 15],\n",
       " 'labels': ['Rise of DIY Tools',\n",
       "  'Pace of Technological Change',\n",
       "  'Reliance on Quantitative Data',\n",
       "  'Economic Uncertainties']}"
      ]
     },
     "execution_count": 85,
     "metadata": {},
     "output_type": "execute_result"
    }
   ],
   "source": [
    "pie_chart"
   ]
  },
  {
   "cell_type": "code",
   "execution_count": 86,
   "id": "89d41e5a",
   "metadata": {},
   "outputs": [],
   "source": [
    "def generate_hsl_colors(n):\n",
    "    \"\"\"\n",
    "    Generate a list of HSL color strings evenly spaced by hue.\n",
    "    \n",
    "    Args:\n",
    "        n (int): Number of colors to generate.\n",
    "\n",
    "    Returns:\n",
    "        List[str]: List of HSL color strings like 'hsl(0, 70%, 50%)'.\n",
    "    \"\"\"\n",
    "    colors = []\n",
    "    for i in range(n):\n",
    "        hue = int((360 / n) * i)\n",
    "        saturation = 70  # You can change this if needed\n",
    "        lightness = 50   # You can change this too\n",
    "        colors.append(f\"hsl({hue}, {saturation}%, {lightness}%)\")\n",
    "    return colors"
   ]
  },
  {
   "cell_type": "code",
   "execution_count": 87,
   "id": "cb6beca3",
   "metadata": {},
   "outputs": [],
   "source": [
    "def nivo_pie_chart(pie_chart):\n",
    "    \n",
    "    chart = {\n",
    "        \"title\": pie_chart['plot_title'],\n",
    "        \"description\": pie_chart['description'],\n",
    "    }\n",
    "    \n",
    "    assert(len(pie_chart['values']) == len(pie_chart['labels']))\n",
    "\n",
    "    data = []\n",
    "    n = len(pie_chart['values'])\n",
    "    colors = generate_hsl_colors(n)\n",
    "            \n",
    "    for k in range(0,n):\n",
    "        info = {\n",
    "            \"id\": pie_chart[\"labels\"][k],\n",
    "            \"label\": pie_chart[\"labels\"][k],\n",
    "            \"value\": pie_chart[\"values\"][k],\n",
    "            \"color\": colors[k]\n",
    "        }\n",
    "        data.append(info)\n",
    "        \n",
    "    chart['data'] = data\n",
    "    \n",
    "    return chart"
   ]
  },
  {
   "cell_type": "code",
   "execution_count": 88,
   "id": "f89b61df",
   "metadata": {},
   "outputs": [
    {
     "data": {
      "text/plain": [
       "{'title': 'Challenges Impacting Growth of Market Research Services Industry',\n",
       " 'description': 'This pie chart illustrates the proportionate impact of various challenges facing the market research industry, including DIY tools, the pace of technological change, reliance on quantitative data, and economic uncertainties.',\n",
       " 'data': [{'id': 'Rise of DIY Tools',\n",
       "   'label': 'Rise of DIY Tools',\n",
       "   'value': 40,\n",
       "   'color': 'hsl(0, 70%, 50%)'},\n",
       "  {'id': 'Pace of Technological Change',\n",
       "   'label': 'Pace of Technological Change',\n",
       "   'value': 25,\n",
       "   'color': 'hsl(90, 70%, 50%)'},\n",
       "  {'id': 'Reliance on Quantitative Data',\n",
       "   'label': 'Reliance on Quantitative Data',\n",
       "   'value': 20,\n",
       "   'color': 'hsl(180, 70%, 50%)'},\n",
       "  {'id': 'Economic Uncertainties',\n",
       "   'label': 'Economic Uncertainties',\n",
       "   'value': 15,\n",
       "   'color': 'hsl(270, 70%, 50%)'}]}"
      ]
     },
     "execution_count": 88,
     "metadata": {},
     "output_type": "execute_result"
    }
   ],
   "source": [
    "nivo_pie_chart(pie_chart)"
   ]
  },
  {
   "cell_type": "markdown",
   "id": "7df4430b",
   "metadata": {},
   "source": [
    "## Line Chart"
   ]
  },
  {
   "cell_type": "code",
   "execution_count": 89,
   "id": "7d74b3d6",
   "metadata": {},
   "outputs": [
    {
     "data": {
      "text/plain": [
       "{'type_chart': 'line_chart',\n",
       " 'plot_title': 'Projected Market Growth of Market Research Services Industry in the U.S. (2020-2025)',\n",
       " 'description': 'This chart shows the projected revenue growth of the market research services industry in the U.S. from 2020 to 2025, based on the given CAGR of 3.9%. It illustrates the expected growth over the years, ending with a projected revenue of $36.6 billion by 2025.',\n",
       " 'x_axis_title': 'Year',\n",
       " 'x_values': [2020, 2021, 2022, 2023, 2024, 2025],\n",
       " 'line_series': [{'label': 'Revenue (in Billion USD)',\n",
       "   'y_values': [32.5, 33.7, 34.9, 36.1, 37.3, 36.6]}]}"
      ]
     },
     "execution_count": 89,
     "metadata": {},
     "output_type": "execute_result"
    }
   ],
   "source": [
    "line_chart"
   ]
  },
  {
   "cell_type": "code",
   "execution_count": 90,
   "id": "0049c569",
   "metadata": {},
   "outputs": [],
   "source": [
    "def nivo_line_chart(line_chart):\n",
    "    \n",
    "    chart = {\n",
    "        \"title\": line_chart['plot_title'],\n",
    "        \"description\": line_chart['description'],\n",
    "        \"legend\": line_chart['x_axis_title']\n",
    "    }\n",
    "    \n",
    "    data = []\n",
    "    n = len(line_chart['line_series'])\n",
    "    colors = generate_hsl_colors(n)\n",
    "            \n",
    "    for k in range(0,n):\n",
    "        series_plot = []\n",
    "        for j in range(0,len(line_chart[\"x_values\"])):\n",
    "            x_y = {\n",
    "                \"x\": line_chart['x_values'][j],\n",
    "                \"y\": line_chart[\"line_series\"][k][\"y_values\"][j]\n",
    "            }\n",
    "            series_plot.append(x_y)\n",
    "        \n",
    "        info = {\n",
    "            \"id\": line_chart[\"line_series\"][k][\"label\"],\n",
    "            \"color\": colors[k],\n",
    "            \"data\": series_plot\n",
    "        }\n",
    "        data.append(info)\n",
    "        \n",
    "    chart['data'] = data\n",
    "    \n",
    "    return chart"
   ]
  },
  {
   "cell_type": "code",
   "execution_count": 91,
   "id": "63b76b6b",
   "metadata": {},
   "outputs": [],
   "source": [
    "nl_chart = nivo_line_chart(line_chart)"
   ]
  },
  {
   "cell_type": "code",
   "execution_count": 92,
   "id": "7e6c4c56",
   "metadata": {},
   "outputs": [
    {
     "data": {
      "text/plain": [
       "{'title': 'Projected Market Growth of Market Research Services Industry in the U.S. (2020-2025)',\n",
       " 'description': 'This chart shows the projected revenue growth of the market research services industry in the U.S. from 2020 to 2025, based on the given CAGR of 3.9%. It illustrates the expected growth over the years, ending with a projected revenue of $36.6 billion by 2025.',\n",
       " 'legend': 'Year',\n",
       " 'data': [{'id': 'Revenue (in Billion USD)',\n",
       "   'color': 'hsl(0, 70%, 50%)',\n",
       "   'data': [{'x': 2020, 'y': 32.5},\n",
       "    {'x': 2021, 'y': 33.7},\n",
       "    {'x': 2022, 'y': 34.9},\n",
       "    {'x': 2023, 'y': 36.1},\n",
       "    {'x': 2024, 'y': 37.3},\n",
       "    {'x': 2025, 'y': 36.6}]}]}"
      ]
     },
     "execution_count": 92,
     "metadata": {},
     "output_type": "execute_result"
    }
   ],
   "source": [
    "nl_chart"
   ]
  },
  {
   "cell_type": "code",
   "execution_count": null,
   "id": "261c2770",
   "metadata": {},
   "outputs": [],
   "source": []
  }
 ],
 "metadata": {
  "kernelspec": {
   "display_name": "Python 3 (ipykernel)",
   "language": "python",
   "name": "python3"
  },
  "language_info": {
   "codemirror_mode": {
    "name": "ipython",
    "version": 3
   },
   "file_extension": ".py",
   "mimetype": "text/x-python",
   "name": "python",
   "nbconvert_exporter": "python",
   "pygments_lexer": "ipython3",
   "version": "3.10.6"
  }
 },
 "nbformat": 4,
 "nbformat_minor": 5
}
