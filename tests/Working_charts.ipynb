{
 "cells": [
  {
   "cell_type": "code",
   "execution_count": 48,
   "id": "7dc2e0d0",
   "metadata": {},
   "outputs": [],
   "source": [
    "import json\n",
    "from mrservices.completions.completions import (\n",
    "    get_online_natural_completion,\n",
    "    get_offline_json_completion\n",
    "    )\n"
   ]
  },
  {
   "cell_type": "code",
   "execution_count": 49,
   "id": "d98dbe96",
   "metadata": {},
   "outputs": [],
   "source": [
    "with open(\"plots.json\") as f:\n",
    "    data = json.loads(f.read())"
   ]
  },
  {
   "cell_type": "code",
   "execution_count": 50,
   "id": "30dd7000",
   "metadata": {},
   "outputs": [
    {
     "data": {
      "text/plain": [
       "dict_keys(['id', 'choices', 'created', 'model', 'object', 'service_tier', 'system_fingerprint', 'usage'])"
      ]
     },
     "execution_count": 50,
     "metadata": {},
     "output_type": "execute_result"
    }
   ],
   "source": [
    "data.keys()"
   ]
  },
  {
   "cell_type": "code",
   "execution_count": 61,
   "id": "a9a36b26",
   "metadata": {},
   "outputs": [
    {
     "data": {
      "text/plain": [
       "[{'type_chart': 'line_chart',\n",
       "  'plot_title': 'Market Growth Over Time',\n",
       "  'description': 'A line graph showing the projected growth of the market research industry in the U.S. over the next five years, along with key milestones such as the introduction of AI in research processes or significant mergers/acquisitions.',\n",
       "  'x_axis_title': 'Year',\n",
       "  'x_values': [2023, 2024, 2025, 2026, 2027],\n",
       "  'line_series': [{'label': 'Market Size (in Billion USD)',\n",
       "    'y_values': [12, 13.5, 15, 16.5, 18]}]},\n",
       " {'type_chart': 'line_chart',\n",
       "  'plot_title': 'Key Growth Drivers',\n",
       "  'description': 'A bar chart displaying the key growth drivers for market research services, such as technological advancements, increased demand for data-driven decision-making, and expanded online survey capabilities.',\n",
       "  'x_axis_title': 'Growth Driver',\n",
       "  'x_values': [1, 2, 3, 4, 5],\n",
       "  'line_series': [{'label': 'Estimated Impact (scale 1-10)',\n",
       "    'y_values': [9, 8, 7, 6, 5]}]},\n",
       " {'type_chart': 'line_chart',\n",
       "  'plot_title': 'Key Challenges',\n",
       "  'description': 'A pie chart illustrating the various challenges faced by market research services, including data privacy concerns, competition from in-house research teams, and rising operational costs.',\n",
       "  'x_axis_title': 'Challenge',\n",
       "  'x_values': [1, 2, 3, 4, 5],\n",
       "  'line_series': [{'label': 'Percentage of Impact (%)',\n",
       "    'y_values': [35, 25, 20, 10, 10]}]}]"
      ]
     },
     "execution_count": 61,
     "metadata": {},
     "output_type": "execute_result"
    }
   ],
   "source": [
    "data['choices'][0]['message']['parsed']['charts']"
   ]
  },
  {
   "cell_type": "code",
   "execution_count": 62,
   "id": "5f09f5b7",
   "metadata": {},
   "outputs": [],
   "source": [
    "line_chart = data['choices'][0]['message']['parsed']['charts'][0]\n",
    "bar_chart = data['choices'][0]['message']['parsed']['charts'][0]\n",
    "pie_chart = data['choices'][0]['message']['parsed']['charts'][2]"
   ]
  },
  {
   "cell_type": "markdown",
   "id": "cba694ba",
   "metadata": {},
   "source": [
    "### Bar Chart"
   ]
  },
  {
   "cell_type": "code",
   "execution_count": 60,
   "id": "cb837ffe",
   "metadata": {},
   "outputs": [
    {
     "data": {
      "text/plain": [
       "{'type_chart': 'line_chart',\n",
       " 'plot_title': 'Market Growth Over Time',\n",
       " 'description': 'A line graph showing the projected growth of the market research industry in the U.S. over the next five years, along with key milestones such as the introduction of AI in research processes or significant mergers/acquisitions.',\n",
       " 'x_axis_title': 'Year',\n",
       " 'x_values': [2023, 2024, 2025, 2026, 2027],\n",
       " 'line_series': [{'label': 'Market Size (in Billion USD)',\n",
       "   'y_values': [12, 13.5, 15, 16.5, 18]}]}"
      ]
     },
     "execution_count": 60,
     "metadata": {},
     "output_type": "execute_result"
    }
   ],
   "source": [
    "bar_chart"
   ]
  },
  {
   "cell_type": "code",
   "execution_count": 46,
   "id": "8d322465",
   "metadata": {},
   "outputs": [],
   "source": [
    "def nivo_bar_chart(line_chart):\n",
    "    chart = {\n",
    "        \"title\": bar_chart['plot_title'],\n",
    "        \"description\": bar_chart['description'],\n",
    "        \"keys\": [bar_chart['y_axis_title']],\n",
    "        \"indexBy\": bar_chart['x_axis_title']\n",
    "    }\n",
    "    \n",
    "    assert(len(bar_chart['x_axis_data']) == len(bar_chart['y_axis_data']))\n",
    "    data = []\n",
    "    for k in range(0,len(bar_chart['x_axis_data'])):\n",
    "        info = {\n",
    "            bar_chart[\"x_axis_title\"]: bar_chart[\"x_axis_data\"][k],\n",
    "            bar_chart[\"y_axis_title\"]: bar_chart[\"y_axis_data\"][k]\n",
    "        }\n",
    "        data.append(info)\n",
    "        \n",
    "    chart['data'] = data\n",
    "    \n",
    "    return chart"
   ]
  },
  {
   "cell_type": "code",
   "execution_count": 47,
   "id": "6408765c",
   "metadata": {},
   "outputs": [
    {
     "ename": "KeyError",
     "evalue": "'y_axis_title'",
     "output_type": "error",
     "traceback": [
      "\u001b[0;31m---------------------------------------------------------------------------\u001b[0m",
      "\u001b[0;31mKeyError\u001b[0m                                  Traceback (most recent call last)",
      "Cell \u001b[0;32mIn[47], line 1\u001b[0m\n\u001b[0;32m----> 1\u001b[0m bc_nivo \u001b[38;5;241m=\u001b[39m \u001b[43mnivo_bar_chart\u001b[49m\u001b[43m(\u001b[49m\u001b[43mbar_chart\u001b[49m\u001b[43m)\u001b[49m\n",
      "Cell \u001b[0;32mIn[46], line 5\u001b[0m, in \u001b[0;36mnivo_bar_chart\u001b[0;34m(line_chart)\u001b[0m\n\u001b[1;32m      1\u001b[0m \u001b[38;5;28;01mdef\u001b[39;00m \u001b[38;5;21mnivo_bar_chart\u001b[39m(line_chart):\n\u001b[1;32m      2\u001b[0m     chart \u001b[38;5;241m=\u001b[39m {\n\u001b[1;32m      3\u001b[0m         \u001b[38;5;124m\"\u001b[39m\u001b[38;5;124mtitle\u001b[39m\u001b[38;5;124m\"\u001b[39m: bar_chart[\u001b[38;5;124m'\u001b[39m\u001b[38;5;124mplot_title\u001b[39m\u001b[38;5;124m'\u001b[39m],\n\u001b[1;32m      4\u001b[0m         \u001b[38;5;124m\"\u001b[39m\u001b[38;5;124mdescription\u001b[39m\u001b[38;5;124m\"\u001b[39m: bar_chart[\u001b[38;5;124m'\u001b[39m\u001b[38;5;124mdescription\u001b[39m\u001b[38;5;124m'\u001b[39m],\n\u001b[0;32m----> 5\u001b[0m         \u001b[38;5;124m\"\u001b[39m\u001b[38;5;124mkeys\u001b[39m\u001b[38;5;124m\"\u001b[39m: [\u001b[43mbar_chart\u001b[49m\u001b[43m[\u001b[49m\u001b[38;5;124;43m'\u001b[39;49m\u001b[38;5;124;43my_axis_title\u001b[39;49m\u001b[38;5;124;43m'\u001b[39;49m\u001b[43m]\u001b[49m],\n\u001b[1;32m      6\u001b[0m         \u001b[38;5;124m\"\u001b[39m\u001b[38;5;124mindexBy\u001b[39m\u001b[38;5;124m\"\u001b[39m: bar_chart[\u001b[38;5;124m'\u001b[39m\u001b[38;5;124mx_axis_title\u001b[39m\u001b[38;5;124m'\u001b[39m]\n\u001b[1;32m      7\u001b[0m     }\n\u001b[1;32m      9\u001b[0m     \u001b[38;5;28;01massert\u001b[39;00m(\u001b[38;5;28mlen\u001b[39m(bar_chart[\u001b[38;5;124m'\u001b[39m\u001b[38;5;124mx_axis_data\u001b[39m\u001b[38;5;124m'\u001b[39m]) \u001b[38;5;241m==\u001b[39m \u001b[38;5;28mlen\u001b[39m(bar_chart[\u001b[38;5;124m'\u001b[39m\u001b[38;5;124my_axis_data\u001b[39m\u001b[38;5;124m'\u001b[39m]))\n\u001b[1;32m     10\u001b[0m     data \u001b[38;5;241m=\u001b[39m []\n",
      "\u001b[0;31mKeyError\u001b[0m: 'y_axis_title'"
     ]
    }
   ],
   "source": [
    "bc_nivo = nivo_bar_chart(bar_chart)"
   ]
  },
  {
   "cell_type": "code",
   "execution_count": 27,
   "id": "f9a597cb",
   "metadata": {},
   "outputs": [
    {
     "name": "stdout",
     "output_type": "stream",
     "text": [
      "{'title': 'Key Growth Drivers Comparison', 'description': 'A bar chart comparing the impact of different key growth drivers (e.g., government incentives, decreasing cost of technology, environmental awareness).', 'keys': ['Impact Score (1-10)'], 'indexBy': 'Growth Driver', 'data': [{'Growth Driver': 'Government Incentives', 'Impact Score (1-10)': 9}, {'Growth Driver': 'Decreasing Cost of Technology', 'Impact Score (1-10)': 8}, {'Growth Driver': 'Environmental Awareness', 'Impact Score (1-10)': 7}, {'Growth Driver': 'Energy Independence Concerns', 'Impact Score (1-10)': 6}, {'Growth Driver': 'Foreign Investment', 'Impact Score (1-10)': 5}]}\n"
     ]
    }
   ],
   "source": [
    "print(bc_nivo)"
   ]
  },
  {
   "cell_type": "code",
   "execution_count": 28,
   "id": "5dafac16",
   "metadata": {},
   "outputs": [
    {
     "data": {
      "text/plain": [
       "[{'Growth Driver': 'Government Incentives', 'Impact Score (1-10)': 9},\n",
       " {'Growth Driver': 'Decreasing Cost of Technology', 'Impact Score (1-10)': 8},\n",
       " {'Growth Driver': 'Environmental Awareness', 'Impact Score (1-10)': 7},\n",
       " {'Growth Driver': 'Energy Independence Concerns', 'Impact Score (1-10)': 6},\n",
       " {'Growth Driver': 'Foreign Investment', 'Impact Score (1-10)': 5}]"
      ]
     },
     "execution_count": 28,
     "metadata": {},
     "output_type": "execute_result"
    }
   ],
   "source": [
    "bc_nivo['data']"
   ]
  },
  {
   "cell_type": "code",
   "execution_count": 31,
   "id": "967f0521",
   "metadata": {},
   "outputs": [
    {
     "data": {
      "text/plain": [
       "['Impact Score (1-10)']"
      ]
     },
     "execution_count": 31,
     "metadata": {},
     "output_type": "execute_result"
    }
   ],
   "source": [
    "bc_nivo['keys']"
   ]
  },
  {
   "cell_type": "code",
   "execution_count": 32,
   "id": "6a21e6eb",
   "metadata": {},
   "outputs": [
    {
     "data": {
      "text/plain": [
       "'Growth Driver'"
      ]
     },
     "execution_count": 32,
     "metadata": {},
     "output_type": "execute_result"
    }
   ],
   "source": [
    "bc_nivo['indexBy']"
   ]
  },
  {
   "cell_type": "markdown",
   "id": "c9daae89",
   "metadata": {},
   "source": [
    "## Pie Chart"
   ]
  },
  {
   "cell_type": "code",
   "execution_count": 33,
   "id": "c74873dd",
   "metadata": {},
   "outputs": [
    {
     "data": {
      "text/plain": [
       "{'plot_title': 'Barriers to Growth',\n",
       " 'description': 'A pie chart displaying the percentage share of various challenges faced by the solar panel industry in Mexico.',\n",
       " 'values': [40, 30, 15, 10, 5],\n",
       " 'labels': ['Regulatory Hurdles',\n",
       "  'Financing Issues',\n",
       "  'Lack of Public Awareness',\n",
       "  'Competition from Fossil Fuels',\n",
       "  'Infrastructure Gaps'],\n",
       " 'type_chart': 'pie_chart'}"
      ]
     },
     "execution_count": 33,
     "metadata": {},
     "output_type": "execute_result"
    }
   ],
   "source": [
    "pie_chart"
   ]
  },
  {
   "cell_type": "code",
   "execution_count": 34,
   "id": "e9923dbc",
   "metadata": {},
   "outputs": [],
   "source": [
    "def generate_hsl_colors(n):\n",
    "    \"\"\"\n",
    "    Generate a list of HSL color strings evenly spaced by hue.\n",
    "    \n",
    "    Args:\n",
    "        n (int): Number of colors to generate.\n",
    "\n",
    "    Returns:\n",
    "        List[str]: List of HSL color strings like 'hsl(0, 70%, 50%)'.\n",
    "    \"\"\"\n",
    "    colors = []\n",
    "    for i in range(n):\n",
    "        hue = int((360 / n) * i)\n",
    "        saturation = 70  # You can change this if needed\n",
    "        lightness = 50   # You can change this too\n",
    "        colors.append(f\"hsl({hue}, {saturation}%, {lightness}%)\")\n",
    "    return colors"
   ]
  },
  {
   "cell_type": "code",
   "execution_count": 38,
   "id": "84919038",
   "metadata": {},
   "outputs": [],
   "source": [
    "def nivo_pie_chart(pie_chart):\n",
    "    \n",
    "    chart = {\n",
    "        \"title\": pie_chart['plot_title'],\n",
    "        \"description\": pie_chart['description'],\n",
    "    }\n",
    "    \n",
    "    assert(len(pie_chart['values']) == len(pie_chart['labels']))\n",
    "\n",
    "    data = []\n",
    "    n = len(pie_chart['values'])\n",
    "    colors = generate_hsl_colors(n)\n",
    "            \n",
    "    for k in range(0,n):\n",
    "        info = {\n",
    "            \"id\": pie_chart[\"labels\"][k],\n",
    "            \"label\": pie_chart[\"labels\"][k],\n",
    "            \"value\": pie_chart[\"values\"][k],\n",
    "            \"color\": colors[k]\n",
    "        }\n",
    "        data.append(info)\n",
    "        \n",
    "    chart['data'] = data\n",
    "    \n",
    "    return chart"
   ]
  },
  {
   "cell_type": "code",
   "execution_count": 39,
   "id": "ab215e65",
   "metadata": {},
   "outputs": [
    {
     "data": {
      "text/plain": [
       "{'title': 'Barriers to Growth',\n",
       " 'description': 'A pie chart displaying the percentage share of various challenges faced by the solar panel industry in Mexico.',\n",
       " 'data': [{'id': 'Regulatory Hurdles',\n",
       "   'label': 'Regulatory Hurdles',\n",
       "   'value': 40,\n",
       "   'color': 'hsl(0, 70%, 50%)'},\n",
       "  {'id': 'Financing Issues',\n",
       "   'label': 'Financing Issues',\n",
       "   'value': 30,\n",
       "   'color': 'hsl(72, 70%, 50%)'},\n",
       "  {'id': 'Lack of Public Awareness',\n",
       "   'label': 'Lack of Public Awareness',\n",
       "   'value': 15,\n",
       "   'color': 'hsl(144, 70%, 50%)'},\n",
       "  {'id': 'Competition from Fossil Fuels',\n",
       "   'label': 'Competition from Fossil Fuels',\n",
       "   'value': 10,\n",
       "   'color': 'hsl(216, 70%, 50%)'},\n",
       "  {'id': 'Infrastructure Gaps',\n",
       "   'label': 'Infrastructure Gaps',\n",
       "   'value': 5,\n",
       "   'color': 'hsl(288, 70%, 50%)'}]}"
      ]
     },
     "execution_count": 39,
     "metadata": {},
     "output_type": "execute_result"
    }
   ],
   "source": [
    "nivo_pie_chart(pie_chart)"
   ]
  },
  {
   "cell_type": "markdown",
   "id": "8b548f42",
   "metadata": {},
   "source": [
    "## Line Chart"
   ]
  },
  {
   "cell_type": "code",
   "execution_count": 63,
   "id": "b3d5e5a4",
   "metadata": {},
   "outputs": [
    {
     "data": {
      "text/plain": [
       "{'type_chart': 'line_chart',\n",
       " 'plot_title': 'Market Growth Over Time',\n",
       " 'description': 'A line graph showing the projected growth of the market research industry in the U.S. over the next five years, along with key milestones such as the introduction of AI in research processes or significant mergers/acquisitions.',\n",
       " 'x_axis_title': 'Year',\n",
       " 'x_values': [2023, 2024, 2025, 2026, 2027],\n",
       " 'line_series': [{'label': 'Market Size (in Billion USD)',\n",
       "   'y_values': [12, 13.5, 15, 16.5, 18]}]}"
      ]
     },
     "execution_count": 63,
     "metadata": {},
     "output_type": "execute_result"
    }
   ],
   "source": [
    "line_chart"
   ]
  },
  {
   "cell_type": "code",
   "execution_count": 66,
   "id": "c6b74eda",
   "metadata": {},
   "outputs": [],
   "source": [
    "def nivo_line_chart(line_chart):\n",
    "    \n",
    "    chart = {\n",
    "        \"title\": line_chart['plot_title'],\n",
    "        \"description\": line_chart['description'],\n",
    "        \"legend\": line_chart['x_axis_title']\n",
    "    }\n",
    "    \n",
    "    data = []\n",
    "    n = len(line_chart['line_series'])\n",
    "    colors = generate_hsl_colors(n)\n",
    "            \n",
    "    for k in range(0,n):\n",
    "        series_plot = []\n",
    "        for j in range(0,len(line_chart[\"x_values\"])):\n",
    "            x_y = {\n",
    "                \"x\": line_chart['x_values'][j],\n",
    "                \"y\": line_chart[\"line_series\"][k][\"y_values\"][j]\n",
    "            }\n",
    "            series_plot.append(x_y)\n",
    "        \n",
    "        info = {\n",
    "            \"id\": line_chart[\"line_series\"][k][\"label\"],\n",
    "            \"color\": colors[k],\n",
    "            \"data\": series_plot\n",
    "        }\n",
    "        data.append(info)\n",
    "        \n",
    "    chart['data'] = data\n",
    "    \n",
    "    return chart"
   ]
  },
  {
   "cell_type": "code",
   "execution_count": 67,
   "id": "a7a7ce3a",
   "metadata": {},
   "outputs": [],
   "source": [
    "nl_chart = nivo_line_chart(line_chart)"
   ]
  },
  {
   "cell_type": "code",
   "execution_count": 68,
   "id": "bb5a92c1",
   "metadata": {},
   "outputs": [
    {
     "data": {
      "text/plain": [
       "{'title': 'Market Growth Over Time',\n",
       " 'description': 'A line graph showing the projected growth of the market research industry in the U.S. over the next five years, along with key milestones such as the introduction of AI in research processes or significant mergers/acquisitions.',\n",
       " 'legend': 'Year',\n",
       " 'data': [{'id': 'Market Size (in Billion USD)',\n",
       "   'color': 'hsl(0, 70%, 50%)',\n",
       "   'data': [{'x': 2023, 'y': 12},\n",
       "    {'x': 2024, 'y': 13.5},\n",
       "    {'x': 2025, 'y': 15},\n",
       "    {'x': 2026, 'y': 16.5},\n",
       "    {'x': 2027, 'y': 18}]}]}"
      ]
     },
     "execution_count": 68,
     "metadata": {},
     "output_type": "execute_result"
    }
   ],
   "source": [
    "nl_chart"
   ]
  },
  {
   "cell_type": "code",
   "execution_count": null,
   "id": "a7dfbb57",
   "metadata": {},
   "outputs": [],
   "source": []
  }
 ],
 "metadata": {
  "kernelspec": {
   "display_name": "Python 3 (ipykernel)",
   "language": "python",
   "name": "python3"
  },
  "language_info": {
   "codemirror_mode": {
    "name": "ipython",
    "version": 3
   },
   "file_extension": ".py",
   "mimetype": "text/x-python",
   "name": "python",
   "nbconvert_exporter": "python",
   "pygments_lexer": "ipython3",
   "version": "3.10.6"
  }
 },
 "nbformat": 4,
 "nbformat_minor": 5
}
